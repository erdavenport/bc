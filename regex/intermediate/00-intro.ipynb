{
 "metadata": {
  "name": ""
 },
 "nbformat": 3,
 "nbformat_minor": 0,
 "worksheets": [
  {
   "cells": [
    {
     "cell_type": "heading",
     "level": 1,
     "metadata": {},
     "source": [
      "Introduction"
     ]
    },
    {
     "cell_type": "markdown",
     "metadata": {},
     "source": [
      "Our job is to read 20 or 30 files,\n",
      "each of which contains several hundred measurements of background evil levels,\n",
      "and convert them into a uniform format for further processing.\n",
      "Each of the readings has the name of the site where the reading was taken,\n",
      "the date the reading was taken on,\n",
      "and of course the background evil level in millivaders.\n",
      "The problem is, these files are formatted in different ways.\n",
      "Here is the first one:"
     ]
    },
    {
     "cell_type": "code",
     "collapsed": false,
     "input": [
      "!cat data-tabbed.txt"
     ],
     "language": "python",
     "metadata": {},
     "outputs": [
      {
       "output_type": "stream",
       "stream": "stdout",
       "text": [
        "Site\tDate\tEvil (millivaders)\r\n",
        "----\t----\t------------------\r\n",
        "Baker 1\t2009-11-17\t1223.0\r\n",
        "Baker 1\t2010-06-24\t1122.7\r\n",
        "Baker 2\t2009-07-24\t2819.0\r\n",
        "Baker 2\t2010-08-25\t2971.6\r\n",
        "Baker 1\t2011-01-05\t1410.0\r\n",
        "Baker 2\t2010-09-04\t4671.6\r\n"
       ]
      }
     ],
     "prompt_number": 1
    },
    {
     "cell_type": "markdown",
     "metadata": {},
     "source": [
      "A single tab character divides the fields in each row into columns.\n",
      "The site names contain spaces,\n",
      "and the dates are in international standard format:\n",
      "four digits for the year,\n",
      "two for the month,\n",
      "and two for the day.\n",
      "\n",
      "> ### Tabs vs. Spaces\n",
      ">\n",
      "> FIXME: Explain tabs and spaces.\n",
      "\n",
      "Let's have a look at the second notebook:"
     ]
    },
    {
     "cell_type": "code",
     "collapsed": false,
     "input": [
      "!cat data-slashed.txt"
     ],
     "language": "python",
     "metadata": {},
     "outputs": [
      {
       "output_type": "stream",
       "stream": "stdout",
       "text": [
        "Site/Date/Evil\r\n",
        "Davison/May 22, 2010/1721.3\r\n",
        "Davison/May 23, 2010/1724.7\r\n",
        "Pertwee/May 24, 2010/2103.8\r\n",
        "Davison/June 19, 2010/1731.9\r\n",
        "Davison/July 6, 2010/2010.7\r\n",
        "Pertwee/Aug 4, 2010/1731.3\r\n",
        "Pertwee/Sept 3, 2010/4981.0\r\n"
       ]
      }
     ],
     "prompt_number": 2
    },
    {
     "cell_type": "markdown",
     "metadata": {},
     "source": [
      "It uses slashes as separators.\n",
      "There don't appear to be spaces in the site names,\n",
      "but the month names and day numbers vary in length.\n",
      "What's worse,\n",
      "the months are text, and the order is month-day-year rather than year-month-day.\n",
      "\n",
      "We could parse these files using basic string operations,\n",
      "but it would be difficult.\n",
      "A better approach is to use [regular expressions](../../gloss.html#regular-expression).\n",
      "A regular expression is just a pattern that can match a string.\n",
      "They are actually very common:\n",
      "when we say `*.txt` to a computer,\n",
      "we mean, \"Match all of the filenames that end in `.txt`.\"\n",
      "The `*` is a regular expression:\n",
      "it matches any number of characters.\n",
      "\n",
      "The rest of this chapter will look at what regular expressions can do,\n",
      "and how we can use them to handle our data.\n",
      "A warning before we go any further, though:\n",
      "the notation for regular expressions is ugly, even by the standards of programming.\n",
      "We're writing patterns to match strings,\n",
      "but we're writing those patterns *as* strings\n",
      "using only the symbols that are on the keyboard,\n",
      "instead of inventing new symbols the way mathematicians do.\n",
      "The good news is that regular expressions work more or less the same way\n",
      "in almost every programming language.\n",
      "We will present examples in Python,\n",
      "but the ideas and notation transfer directly to Perl, Java, MATLAB, C#, and Fortran."
     ]
    }
   ],
   "metadata": {}
  }
 ]
}