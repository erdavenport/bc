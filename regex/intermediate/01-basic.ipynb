{
 "metadata": {
  "name": ""
 },
 "nbformat": 3,
 "nbformat_minor": 0,
 "worksheets": [
  {
   "cells": [
    {
     "cell_type": "heading",
     "level": 1,
     "metadata": {},
     "source": [
      "Basic Operations"
     ]
    },
    {
     "cell_type": "markdown",
     "metadata": {},
     "source": [
      "In order to introduce regular expressions,\n",
      "we will use a simple Python extension module called `regexmagic`.\n",
      "We load it like this:"
     ]
    },
    {
     "cell_type": "code",
     "collapsed": false,
     "input": [
      "%reload_ext regexmagic"
     ],
     "language": "python",
     "metadata": {},
     "outputs": [],
     "prompt_number": 60
    },
    {
     "cell_type": "markdown",
     "metadata": {},
     "source": [
      "We can then match patterns against lines of text by putting the pattern on the first line\n",
      "and the text to search through below it:"
     ]
    },
    {
     "cell_type": "code",
     "collapsed": false,
     "input": [
      "%%regex Baker\n",
      "Artisan\n",
      "Baker\n",
      "Carter"
     ],
     "language": "python",
     "metadata": {},
     "outputs": [
      {
       "html": [
        "<p><font color=\"green\"><strong>Baker</strong></font></p>\n",
        "<table border=\"0\"><tr><td>&nbsp;</td><td>Artisan</td></tr><tr><td>*</td><td><font color=\"red\"><u>Baker</u></font></td></tr><tr><td>&nbsp;</td><td>Carter</td></tr></table>"
       ],
       "metadata": {},
       "output_type": "display_data",
       "text": [
        "<IPython.core.display.HTML at 0x10359d350>"
       ]
      }
     ],
     "prompt_number": 61
    },
    {
     "cell_type": "markdown",
     "metadata": {},
     "source": [
      "or by giving the name of a file with '@' in front of it\n",
      "(so that the plugin knows to read data from that file\n",
      "rather than trying to match the pattern against the filename):"
     ]
    },
    {
     "cell_type": "code",
     "collapsed": false,
     "input": [
      "!cat data-names.txt"
     ],
     "language": "python",
     "metadata": {},
     "outputs": [
      {
       "output_type": "stream",
       "stream": "stdout",
       "text": [
        "Artisan\r\n",
        "Baker\r\n",
        "Carter\r\n",
        "Artisan again\r\n",
        "Baker again\r\n",
        "Carter again\r\n"
       ]
      }
     ],
     "prompt_number": 62
    },
    {
     "cell_type": "code",
     "collapsed": false,
     "input": [
      "%%regex Baker\n",
      "@data-names.txt"
     ],
     "language": "python",
     "metadata": {},
     "outputs": [
      {
       "html": [
        "<p><font color=\"green\"><strong>Baker</strong></font></p>\n",
        "<table border=\"0\"><tr><td>&nbsp;</td><td>Artisan</td></tr><tr><td>*</td><td><font color=\"blue\"><u>Baker</u></font></td></tr><tr><td>&nbsp;</td><td>Carter</td></tr><tr><td>&nbsp;</td><td>Artisan again</td></tr><tr><td>*</td><td><font color=\"red\"><u>Baker</u></font> again</td></tr><tr><td>&nbsp;</td><td>Carter again</td></tr></table>"
       ],
       "metadata": {},
       "output_type": "display_data",
       "text": [
        "<IPython.core.display.HTML at 0x10359dcd0>"
       ]
      }
     ],
     "prompt_number": 63
    },
    {
     "cell_type": "markdown",
     "metadata": {},
     "source": [
      "The pattern we are using appears in green as the first line of output.\n",
      "Matches are then shown inline alternating between blue and red."
     ]
    },
    {
     "cell_type": "markdown",
     "metadata": {},
     "source": [
      "As this example shows,\n",
      "a pattern like `Baker` matches against itself,\n",
      "since each of the letters A-Z and a-z matches against itself.\n",
      "The digits 0-9 match themselves as well,\n",
      "so we can select observations from June of any year\n",
      "by looking for `06` in our data:"
     ]
    },
    {
     "cell_type": "code",
     "collapsed": false,
     "input": [
      "%%regex 06\n",
      "@data-tabbed.txt"
     ],
     "language": "python",
     "metadata": {},
     "outputs": [
      {
       "html": [
        "<p><font color=\"green\"><strong>06</strong></font></p>\n",
        "<table border=\"0\"><tr><td>&nbsp;</td><td>Site\tDate\tEvil (millivaders)</td></tr><tr><td>&nbsp;</td><td>----\t----\t------------------</td></tr><tr><td>&nbsp;</td><td>Baker 1\t2009-11-17\t1223.0</td></tr><tr><td>*</td><td>Baker 1\t2010-<font color=\"blue\"><u>06</u></font>-24\t1122.7</td></tr><tr><td>&nbsp;</td><td>Baker 2\t2009-07-24\t2819.0</td></tr><tr><td>&nbsp;</td><td>Baker 2\t2010-08-25\t2971.6</td></tr><tr><td>&nbsp;</td><td>Baker 1\t2011-01-05\t1410.0</td></tr><tr><td>&nbsp;</td><td>Baker 2\t2010-09-04\t4671.6</td></tr></table>"
       ],
       "metadata": {},
       "output_type": "display_data",
       "text": [
        "<IPython.core.display.HTML at 0x10359dfd0>"
       ]
      }
     ],
     "prompt_number": 64
    },
    {
     "cell_type": "markdown",
     "metadata": {},
     "source": [
      "But what if we want to select observations from November?"
     ]
    },
    {
     "cell_type": "code",
     "collapsed": false,
     "input": [
      "%%regex 11\n",
      "@data-tabbed.txt"
     ],
     "language": "python",
     "metadata": {},
     "outputs": [
      {
       "html": [
        "<p><font color=\"green\"><strong>11</strong></font></p>\n",
        "<table border=\"0\"><tr><td>&nbsp;</td><td>Site\tDate\tEvil (millivaders)</td></tr><tr><td>&nbsp;</td><td>----\t----\t------------------</td></tr><tr><td>*</td><td>Baker 1\t2009-<font color=\"red\"><u>11</u></font>-17\t1223.0</td></tr><tr><td>*</td><td>Baker 1\t2010-06-24\t<font color=\"blue\"><u>11</u></font>22.7</td></tr><tr><td>&nbsp;</td><td>Baker 2\t2009-07-24\t2819.0</td></tr><tr><td>&nbsp;</td><td>Baker 2\t2010-08-25\t2971.6</td></tr><tr><td>*</td><td>Baker 1\t20<font color=\"red\"><u>11</u></font>-01-05\t1410.0</td></tr><tr><td>&nbsp;</td><td>Baker 2\t2010-09-04\t4671.6</td></tr></table>"
       ],
       "metadata": {},
       "output_type": "display_data",
       "text": [
        "<IPython.core.display.HTML at 0x10359d350>"
       ]
      }
     ],
     "prompt_number": 65
    },
    {
     "cell_type": "markdown",
     "metadata": {},
     "source": [
      "The pattern matches the record with \"11\" as a month,\n",
      "but also matches the observation from \"2011\",\n",
      "and the observation that happens to have two consecutive 1's in the data.\n",
      "\n",
      "What if we match the pattern '-11-',\n",
      "i.e.,\n",
      "use the fact that dates are formatted as YYYY-MM-DD?"
     ]
    },
    {
     "cell_type": "code",
     "collapsed": false,
     "input": [
      "%%regex -11-\n",
      "@data-tabbed.txt"
     ],
     "language": "python",
     "metadata": {},
     "outputs": [
      {
       "html": [
        "<p><font color=\"green\"><strong>-11-</strong></font></p>\n",
        "<table border=\"0\"><tr><td>&nbsp;</td><td>Site\tDate\tEvil (millivaders)</td></tr><tr><td>&nbsp;</td><td>----\t----\t------------------</td></tr><tr><td>*</td><td>Baker 1\t2009<font color=\"blue\"><u>-11-</u></font>17\t1223.0</td></tr><tr><td>&nbsp;</td><td>Baker 1\t2010-06-24\t1122.7</td></tr><tr><td>&nbsp;</td><td>Baker 2\t2009-07-24\t2819.0</td></tr><tr><td>&nbsp;</td><td>Baker 2\t2010-08-25\t2971.6</td></tr><tr><td>&nbsp;</td><td>Baker 1\t2011-01-05\t1410.0</td></tr><tr><td>&nbsp;</td><td>Baker 2\t2010-09-04\t4671.6</td></tr></table>"
       ],
       "metadata": {},
       "output_type": "display_data",
       "text": [
        "<IPython.core.display.HTML at 0x10359df50>"
       ]
      }
     ],
     "prompt_number": 66
    },
    {
     "cell_type": "markdown",
     "metadata": {},
     "source": [
      "Sure enough,\n",
      "that only matches the line containing data from November.\n",
      "\n",
      "Now let's try to match records from either June or July:"
     ]
    },
    {
     "cell_type": "code",
     "collapsed": false,
     "input": [
      "%%regex 06|07\n",
      "@data-tabbed.txt"
     ],
     "language": "python",
     "metadata": {},
     "outputs": [
      {
       "html": [
        "<p><font color=\"green\"><strong>06|07</strong></font></p>\n",
        "<table border=\"0\"><tr><td>&nbsp;</td><td>Site\tDate\tEvil (millivaders)</td></tr><tr><td>&nbsp;</td><td>----\t----\t------------------</td></tr><tr><td>&nbsp;</td><td>Baker 1\t2009-11-17\t1223.0</td></tr><tr><td>*</td><td>Baker 1\t2010-<font color=\"red\"><u>06</u></font>-24\t1122.7</td></tr><tr><td>*</td><td>Baker 2\t2009-<font color=\"blue\"><u>07</u></font>-24\t2819.0</td></tr><tr><td>&nbsp;</td><td>Baker 2\t2010-08-25\t2971.6</td></tr><tr><td>&nbsp;</td><td>Baker 1\t2011-01-05\t1410.0</td></tr><tr><td>&nbsp;</td><td>Baker 2\t2010-09-04\t4671.6</td></tr></table>"
       ],
       "metadata": {},
       "output_type": "display_data",
       "text": [
        "<IPython.core.display.HTML at 0x10359df50>"
       ]
      }
     ],
     "prompt_number": 67
    },
    {
     "cell_type": "markdown",
     "metadata": {},
     "source": [
      "The vertical bar in the pattern means \"or\".\n",
      "It tells regular expression library that\n",
      "we want to match either the text on the left,\n",
      "or the text on the right.\n",
      "And note that `06|07` means \"either '06' or '07'\",\n",
      "not \"a '0', then either '6' or another '0', then '7'\",\n",
      "just as 3\\*2+5 means (3\\*2)+5 rather than 3\\*(2+5).\n",
      "If we want to force the regular expression library to match in a different order,\n",
      "we can use parentheses,\n",
      "just as we do in mathematics:"
     ]
    },
    {
     "cell_type": "code",
     "collapsed": false,
     "input": [
      "%%regex 0(6|0)7\n",
      "@data-tabbed.txt"
     ],
     "language": "python",
     "metadata": {},
     "outputs": [
      {
       "html": [
        "<p><font color=\"green\"><strong>0(6|0)7</strong></font></p>\n",
        "<table border=\"0\"><tr><td>&nbsp;</td><td>Site\tDate\tEvil (millivaders)</td></tr><tr><td>&nbsp;</td><td>----\t----\t------------------</td></tr><tr><td>&nbsp;</td><td>Baker 1\t2009-11-17\t1223.0</td></tr><tr><td>&nbsp;</td><td>Baker 1\t2010-06-24\t1122.7</td></tr><tr><td>&nbsp;</td><td>Baker 2\t2009-07-24\t2819.0</td></tr><tr><td>&nbsp;</td><td>Baker 2\t2010-08-25\t2971.6</td></tr><tr><td>&nbsp;</td><td>Baker 1\t2011-01-05\t1410.0</td></tr><tr><td>&nbsp;</td><td>Baker 2\t2010-09-04\t4671.6</td></tr></table>"
       ],
       "metadata": {},
       "output_type": "display_data",
       "text": [
        "<IPython.core.display.HTML at 0x10359f150>"
       ]
      }
     ],
     "prompt_number": 68
    },
    {
     "cell_type": "markdown",
     "metadata": {},
     "source": [
      "There are no matches,\n",
      "because neither \"067\" nor \"007\" appears in the data."
     ]
    },
    {
     "cell_type": "markdown",
     "metadata": {},
     "source": [
      "We can use parentheses to match lines containing observations\n",
      "from the 20th to the 29th of each month like this:"
     ]
    },
    {
     "cell_type": "code",
     "collapsed": false,
     "input": [
      "%%regex -2(0|1|2|3|4|5|6|7|8|9)\n",
      "@data-tabbed.txt"
     ],
     "language": "python",
     "metadata": {},
     "outputs": [
      {
       "html": [
        "<font color=\"green\"><strong>-2(0|1|2|3|4|5|6|7|8|9)</strong></font>\n",
        "<br/>Site\tDate\tEvil (millivaders)\n",
        "<br/>----\t----\t------------------\n",
        "<br/>Baker 1\t2009-11-17\t1223.0\n",
        "<br/>Baker 1\t2010-06<font color=\"red\"><u>-24</u></font>\t1122.7\n",
        "<br/>Baker 2\t2009-07<font color=\"blue\"><u>-24</u></font>\t2819.0\n",
        "<br/>Baker 2\t2010-08<font color=\"red\"><u>-25</u></font>\t2971.6\n",
        "<br/>Baker 1\t2011-01-05\t1410.0\n",
        "<br/>Baker 2\t2010-09-04\t4671.6\n",
        "<br/>"
       ],
       "metadata": {},
       "output_type": "display_data",
       "text": [
        "<IPython.core.display.HTML at 0x103541a10>"
       ]
      }
     ],
     "prompt_number": 23
    },
    {
     "cell_type": "markdown",
     "metadata": {},
     "source": [
      "An easier way is to take advantage of the fact that '.' matches any single character:"
     ]
    },
    {
     "cell_type": "code",
     "collapsed": false,
     "input": [
      "%%regex -2.\n",
      "@data-tabbed.txt"
     ],
     "language": "python",
     "metadata": {},
     "outputs": [
      {
       "html": [
        "<font color=\"green\"><strong>-2.</strong></font>\n",
        "<br/>Site\tDate\tEvil (millivaders)\n",
        "<br/>----\t----\t------------------\n",
        "<br/>Baker 1\t2009-11-17\t1223.0\n",
        "<br/>Baker 1\t2010-06<font color=\"blue\"><u>-24</u></font>\t1122.7\n",
        "<br/>Baker 2\t2009-07<font color=\"red\"><u>-24</u></font>\t2819.0\n",
        "<br/>Baker 2\t2010-08<font color=\"blue\"><u>-25</u></font>\t2971.6\n",
        "<br/>Baker 1\t2011-01-05\t1410.0\n",
        "<br/>Baker 2\t2010-09-04\t4671.6\n",
        "<br/>"
       ],
       "metadata": {},
       "output_type": "display_data",
       "text": [
        "<IPython.core.display.HTML at 0x103541c90>"
       ]
      }
     ],
     "prompt_number": 24
    },
    {
     "cell_type": "code",
     "collapsed": false,
     "input": [],
     "language": "python",
     "metadata": {},
     "outputs": []
    }
   ],
   "metadata": {}
  }
 ]
}